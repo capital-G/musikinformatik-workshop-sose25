{
 "cells": [
  {
   "cell_type": "markdown",
   "id": "57625368-3b92-4e1e-8a0b-5de2f929298e",
   "metadata": {},
   "source": [
    "# Day 1 - Introduction to FluCoMa"
   ]
  },
  {
   "cell_type": "code",
   "execution_count": 2,
   "id": "7a02ef9f-c29f-43a5-863b-8d338df81a8e",
   "metadata": {},
   "outputs": [
    {
     "name": "stdout",
     "output_type": "stream",
     "text": [
      "-> 4"
     ]
    }
   ],
   "source": [
    "2+2"
   ]
  },
  {
   "cell_type": "code",
   "execution_count": null,
   "id": "aaef7a32-d559-4611-b2fe-1818e11ba314",
   "metadata": {},
   "outputs": [],
   "source": []
  }
 ],
 "metadata": {
  "kernelspec": {
   "display_name": "SuperCollider",
   "language": "",
   "name": "sc_kernel"
  },
  "language_info": {
   "file_extension": ".scd",
   "mimetype": "text/x-sclang",
   "name": "smalltalk",
   "pygments_lexer": "supercollider"
  }
 },
 "nbformat": 4,
 "nbformat_minor": 5
}
